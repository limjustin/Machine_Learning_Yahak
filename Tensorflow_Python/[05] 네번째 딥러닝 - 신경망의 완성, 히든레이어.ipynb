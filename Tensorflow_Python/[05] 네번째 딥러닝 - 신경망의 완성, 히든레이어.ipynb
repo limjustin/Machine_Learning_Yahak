{
  "nbformat": 4,
  "nbformat_minor": 0,
  "metadata": {
    "colab": {
      "name": "[05] 네번째 딥러닝 - 신경망의 완성 : 히든레이어.ipynb",
      "provenance": []
    },
    "kernelspec": {
      "name": "python3",
      "display_name": "Python 3"
    }
  },
  "cells": [
    {
      "cell_type": "markdown",
      "metadata": {
        "id": "6LupXa_65jz_"
      },
      "source": [
        "**히든 레이어**\r\n",
        "- 입력 레이어와 출력 레이어 사이의 층.\r\n",
        "- 많이 쌓일수록, 결과가 더 정확해짐.\r\n",
        "- 활성화 함수로는 ```swish```를 사용"
      ]
    },
    {
      "cell_type": "markdown",
      "metadata": {
        "id": "v3dLbPiK7MuF"
      },
      "source": [
        "**히든 레이어 - 보스턴 집값 예측**"
      ]
    },
    {
      "cell_type": "code",
      "metadata": {
        "id": "dY-747d14b9G"
      },
      "source": [
        "# 라이브러리 사용\r\n",
        "\r\n",
        "import tensorflow as tf\r\n",
        "import pandas as pd"
      ],
      "execution_count": 1,
      "outputs": []
    },
    {
      "cell_type": "code",
      "metadata": {
        "colab": {
          "base_uri": "https://localhost:8080/"
        },
        "id": "jNPs37MY7U3M",
        "outputId": "264c8cd9-3850-484b-9068-c065b2c2d2e3"
      },
      "source": [
        "# 1. 과거의 데이터를 준비합니다.\r\n",
        "\r\n",
        "파일경로 = 'https://raw.githubusercontent.com/blackdew/tensorflow1/master/csv/boston.csv'\r\n",
        "보스턴 = pd.read_csv(파일경로)\r\n",
        "\r\n",
        "\r\n",
        "# 독립변수와 종속변수\r\n",
        "\r\n",
        "독립 = 보스턴[['crim', 'zn', 'indus', 'chas', 'nox', 'rm', 'age', 'dis', 'rad', 'tax',\r\n",
        "       'ptratio', 'b', 'lstat']]\r\n",
        "종속 = 보스턴[['medv']]\r\n",
        "print(독립.shape, 종속.shape)"
      ],
      "execution_count": 2,
      "outputs": [
        {
          "output_type": "stream",
          "text": [
            "(506, 13) (506, 1)\n"
          ],
          "name": "stdout"
        }
      ]
    },
    {
      "cell_type": "code",
      "metadata": {
        "id": "k5DadRpx7lxc"
      },
      "source": [
        "# 2. 모델의 구조를 만듭니다.\r\n",
        "\r\n",
        "X = tf.keras.layers.Input(shape = [13])\r\n",
        "H = tf.keras.layers.Dense(10, activation = 'swish')(X)  # 히든 레이어 생성\r\n",
        "Y = tf.keras.layers.Dense(1)(H)\r\n",
        "model = tf.keras.models.Model(X, Y)\r\n",
        "model.compile(loss = 'mse')"
      ],
      "execution_count": 7,
      "outputs": []
    },
    {
      "cell_type": "code",
      "metadata": {
        "colab": {
          "base_uri": "https://localhost:8080/"
        },
        "id": "NdWE_1cg8Mlb",
        "outputId": "a5a6d46c-80ea-43c1-d068-03e8daf6ac91"
      },
      "source": [
        "model.summary()  # 모델의 구조 확인하는 코드"
      ],
      "execution_count": 9,
      "outputs": [
        {
          "output_type": "stream",
          "text": [
            "Model: \"model_1\"\n",
            "_________________________________________________________________\n",
            "Layer (type)                 Output Shape              Param #   \n",
            "=================================================================\n",
            "input_2 (InputLayer)         [(None, 13)]              0         \n",
            "_________________________________________________________________\n",
            "dense_2 (Dense)              (None, 10)                140       \n",
            "_________________________________________________________________\n",
            "dense_3 (Dense)              (None, 1)                 11        \n",
            "=================================================================\n",
            "Total params: 151\n",
            "Trainable params: 151\n",
            "Non-trainable params: 0\n",
            "_________________________________________________________________\n"
          ],
          "name": "stdout"
        }
      ]
    },
    {
      "cell_type": "code",
      "metadata": {
        "colab": {
          "base_uri": "https://localhost:8080/"
        },
        "id": "hDwcXzfP76Bq",
        "outputId": "cd4efba1-1420-495a-e829-90eab5135179"
      },
      "source": [
        "# 3. 데이터로 모델을 학습(fit)합니다.\r\n",
        "\r\n",
        "model.fit(독립, 종속, epochs = 1000, verbose = 0)\r\n",
        "model.fit(독립, 종속, epochs = 10)"
      ],
      "execution_count": 12,
      "outputs": [
        {
          "output_type": "stream",
          "text": [
            "Epoch 1/10\n",
            "16/16 [==============================] - 0s 1ms/step - loss: 20.5313\n",
            "Epoch 2/10\n",
            "16/16 [==============================] - 0s 1ms/step - loss: 21.9723\n",
            "Epoch 3/10\n",
            "16/16 [==============================] - 0s 1ms/step - loss: 19.9100\n",
            "Epoch 4/10\n",
            "16/16 [==============================] - 0s 1ms/step - loss: 21.3459\n",
            "Epoch 5/10\n",
            "16/16 [==============================] - 0s 1ms/step - loss: 20.3547\n",
            "Epoch 6/10\n",
            "16/16 [==============================] - 0s 1ms/step - loss: 20.9411\n",
            "Epoch 7/10\n",
            "16/16 [==============================] - 0s 1ms/step - loss: 21.6283\n",
            "Epoch 8/10\n",
            "16/16 [==============================] - 0s 1ms/step - loss: 21.4843\n",
            "Epoch 9/10\n",
            "16/16 [==============================] - 0s 1ms/step - loss: 20.7050\n",
            "Epoch 10/10\n",
            "16/16 [==============================] - 0s 1ms/step - loss: 21.2105\n"
          ],
          "name": "stdout"
        },
        {
          "output_type": "execute_result",
          "data": {
            "text/plain": [
              "<tensorflow.python.keras.callbacks.History at 0x7fa56f70e438>"
            ]
          },
          "metadata": {
            "tags": []
          },
          "execution_count": 12
        }
      ]
    },
    {
      "cell_type": "code",
      "metadata": {
        "colab": {
          "base_uri": "https://localhost:8080/"
        },
        "id": "OsSzSsyJ8ToV",
        "outputId": "91bb0fd5-54c0-409a-837c-d4cb9bdc796f"
      },
      "source": [
        "# 4. 모델을 이용합니다.\r\n",
        "\r\n",
        "print(model.predict(독립[:5]))\r\n",
        "print(종속[:5])"
      ],
      "execution_count": 13,
      "outputs": [
        {
          "output_type": "stream",
          "text": [
            "[[28.882624]\n",
            " [23.391987]\n",
            " [29.716093]\n",
            " [28.660673]\n",
            " [28.235117]]\n",
            "   medv\n",
            "0  24.0\n",
            "1  21.6\n",
            "2  34.7\n",
            "3  33.4\n",
            "4  36.2\n"
          ],
          "name": "stdout"
        }
      ]
    },
    {
      "cell_type": "markdown",
      "metadata": {
        "id": "S6quq25_80Bt"
      },
      "source": [
        "**히든 레이어 - 아이리스 품종 분류**"
      ]
    },
    {
      "cell_type": "code",
      "metadata": {
        "id": "xEKUR7878zmX"
      },
      "source": [
        "import tensorflow as tf\r\n",
        "import pandas as pd"
      ],
      "execution_count": 14,
      "outputs": []
    },
    {
      "cell_type": "code",
      "metadata": {
        "id": "Q4Ea2b889PN6"
      },
      "source": [
        "파일경로 = 'https://raw.githubusercontent.com/blackdew/tensorflow1/master/csv/iris.csv'\r\n",
        "아이리스 = pd.read_csv(파일경로)"
      ],
      "execution_count": 15,
      "outputs": []
    },
    {
      "cell_type": "code",
      "metadata": {
        "colab": {
          "base_uri": "https://localhost:8080/",
          "height": 204
        },
        "id": "rhEfGkWe9Ybl",
        "outputId": "8d4e4827-4f71-4c3d-e3fa-fd652797c64d"
      },
      "source": [
        "인코딩 = pd.get_dummies(아이리스)\r\n",
        "인코딩.head()"
      ],
      "execution_count": 20,
      "outputs": [
        {
          "output_type": "execute_result",
          "data": {
            "text/html": [
              "<div>\n",
              "<style scoped>\n",
              "    .dataframe tbody tr th:only-of-type {\n",
              "        vertical-align: middle;\n",
              "    }\n",
              "\n",
              "    .dataframe tbody tr th {\n",
              "        vertical-align: top;\n",
              "    }\n",
              "\n",
              "    .dataframe thead th {\n",
              "        text-align: right;\n",
              "    }\n",
              "</style>\n",
              "<table border=\"1\" class=\"dataframe\">\n",
              "  <thead>\n",
              "    <tr style=\"text-align: right;\">\n",
              "      <th></th>\n",
              "      <th>꽃잎길이</th>\n",
              "      <th>꽃잎폭</th>\n",
              "      <th>꽃받침길이</th>\n",
              "      <th>꽃받침폭</th>\n",
              "      <th>품종_setosa</th>\n",
              "      <th>품종_versicolor</th>\n",
              "      <th>품종_virginica</th>\n",
              "    </tr>\n",
              "  </thead>\n",
              "  <tbody>\n",
              "    <tr>\n",
              "      <th>0</th>\n",
              "      <td>5.1</td>\n",
              "      <td>3.5</td>\n",
              "      <td>1.4</td>\n",
              "      <td>0.2</td>\n",
              "      <td>1</td>\n",
              "      <td>0</td>\n",
              "      <td>0</td>\n",
              "    </tr>\n",
              "    <tr>\n",
              "      <th>1</th>\n",
              "      <td>4.9</td>\n",
              "      <td>3.0</td>\n",
              "      <td>1.4</td>\n",
              "      <td>0.2</td>\n",
              "      <td>1</td>\n",
              "      <td>0</td>\n",
              "      <td>0</td>\n",
              "    </tr>\n",
              "    <tr>\n",
              "      <th>2</th>\n",
              "      <td>4.7</td>\n",
              "      <td>3.2</td>\n",
              "      <td>1.3</td>\n",
              "      <td>0.2</td>\n",
              "      <td>1</td>\n",
              "      <td>0</td>\n",
              "      <td>0</td>\n",
              "    </tr>\n",
              "    <tr>\n",
              "      <th>3</th>\n",
              "      <td>4.6</td>\n",
              "      <td>3.1</td>\n",
              "      <td>1.5</td>\n",
              "      <td>0.2</td>\n",
              "      <td>1</td>\n",
              "      <td>0</td>\n",
              "      <td>0</td>\n",
              "    </tr>\n",
              "    <tr>\n",
              "      <th>4</th>\n",
              "      <td>5.0</td>\n",
              "      <td>3.6</td>\n",
              "      <td>1.4</td>\n",
              "      <td>0.2</td>\n",
              "      <td>1</td>\n",
              "      <td>0</td>\n",
              "      <td>0</td>\n",
              "    </tr>\n",
              "  </tbody>\n",
              "</table>\n",
              "</div>"
            ],
            "text/plain": [
              "   꽃잎길이  꽃잎폭  꽃받침길이  꽃받침폭  품종_setosa  품종_versicolor  품종_virginica\n",
              "0   5.1  3.5    1.4   0.2          1              0             0\n",
              "1   4.9  3.0    1.4   0.2          1              0             0\n",
              "2   4.7  3.2    1.3   0.2          1              0             0\n",
              "3   4.6  3.1    1.5   0.2          1              0             0\n",
              "4   5.0  3.6    1.4   0.2          1              0             0"
            ]
          },
          "metadata": {
            "tags": []
          },
          "execution_count": 20
        }
      ]
    },
    {
      "cell_type": "code",
      "metadata": {
        "colab": {
          "base_uri": "https://localhost:8080/"
        },
        "id": "5GRUWIlC9cLm",
        "outputId": "afe3fc40-2b73-4779-a9e9-00f96aa4ea1c"
      },
      "source": [
        "독립 = 인코딩[['꽃잎길이', '꽃잎폭', '꽃받침길이', '꽃받침폭']]\r\n",
        "종속 = 인코딩[['품종_setosa', '품종_versicolor',\r\n",
        "       '품종_virginica']]\r\n",
        "print(독립.shape, 종속.shape)"
      ],
      "execution_count": 21,
      "outputs": [
        {
          "output_type": "stream",
          "text": [
            "(150, 4) (150, 3)\n"
          ],
          "name": "stdout"
        }
      ]
    },
    {
      "cell_type": "code",
      "metadata": {
        "id": "FqN6cMBw9qvk"
      },
      "source": [
        "X = tf.keras.layers.Input(shape = [4])\r\n",
        "H = tf.keras.layers.Dense(8, activation = 'swish')(X)\r\n",
        "H = tf.keras.layers.Dense(8, activation = 'swish')(H)\r\n",
        "H = tf.keras.layers.Dense(8, activation = 'swish')(H)\r\n",
        "Y = tf.keras.layers.Dense(3, activation = 'softmax')(H)\r\n",
        "models = tf.keras.models.Model(X, Y)\r\n",
        "models.compile(loss = 'categorical_crossentropy', metrics = 'accuracy')"
      ],
      "execution_count": 42,
      "outputs": []
    },
    {
      "cell_type": "code",
      "metadata": {
        "colab": {
          "base_uri": "https://localhost:8080/"
        },
        "id": "UeHXTo5A-GXD",
        "outputId": "f1f00369-581d-4bba-cc7c-33b6498144d1"
      },
      "source": [
        "models.fit(독립, 종속, epochs = 10)"
      ],
      "execution_count": 47,
      "outputs": [
        {
          "output_type": "stream",
          "text": [
            "Epoch 1/10\n",
            "5/5 [==============================] - 0s 2ms/step - loss: 0.3848 - accuracy: 0.9267\n",
            "Epoch 2/10\n",
            "5/5 [==============================] - 0s 2ms/step - loss: 0.3704 - accuracy: 0.9600\n",
            "Epoch 3/10\n",
            "5/5 [==============================] - 0s 2ms/step - loss: 0.3610 - accuracy: 0.9333\n",
            "Epoch 4/10\n",
            "5/5 [==============================] - 0s 2ms/step - loss: 0.3442 - accuracy: 0.9400\n",
            "Epoch 5/10\n",
            "5/5 [==============================] - 0s 2ms/step - loss: 0.3330 - accuracy: 0.9600\n",
            "Epoch 6/10\n",
            "5/5 [==============================] - 0s 3ms/step - loss: 0.3200 - accuracy: 0.9733\n",
            "Epoch 7/10\n",
            "5/5 [==============================] - 0s 2ms/step - loss: 0.3103 - accuracy: 0.9533\n",
            "Epoch 8/10\n",
            "5/5 [==============================] - 0s 2ms/step - loss: 0.2963 - accuracy: 0.9733\n",
            "Epoch 9/10\n",
            "5/5 [==============================] - 0s 2ms/step - loss: 0.2857 - accuracy: 0.9733\n",
            "Epoch 10/10\n",
            "5/5 [==============================] - 0s 2ms/step - loss: 0.2806 - accuracy: 0.9600\n"
          ],
          "name": "stdout"
        },
        {
          "output_type": "execute_result",
          "data": {
            "text/plain": [
              "<tensorflow.python.keras.callbacks.History at 0x7fa56b6d8518>"
            ]
          },
          "metadata": {
            "tags": []
          },
          "execution_count": 47
        }
      ]
    },
    {
      "cell_type": "code",
      "metadata": {
        "colab": {
          "base_uri": "https://localhost:8080/"
        },
        "id": "gISHemsK-It8",
        "outputId": "af9b20ba-7d9a-4366-fd5d-ef3a19b7cfae"
      },
      "source": [
        "print(models.predict(독립[:5]))\r\n",
        "print(종속[:5])"
      ],
      "execution_count": 48,
      "outputs": [
        {
          "output_type": "stream",
          "text": [
            "[[0.9714256  0.02683425 0.00174016]\n",
            " [0.9578919  0.03919976 0.00290827]\n",
            " [0.9631742  0.03417732 0.00264838]\n",
            " [0.9534404  0.04304427 0.00351535]\n",
            " [0.97184426 0.02639041 0.00176541]]\n",
            "   품종_setosa  품종_versicolor  품종_virginica\n",
            "0          1              0             0\n",
            "1          1              0             0\n",
            "2          1              0             0\n",
            "3          1              0             0\n",
            "4          1              0             0\n"
          ],
          "name": "stdout"
        }
      ]
    }
  ]
}