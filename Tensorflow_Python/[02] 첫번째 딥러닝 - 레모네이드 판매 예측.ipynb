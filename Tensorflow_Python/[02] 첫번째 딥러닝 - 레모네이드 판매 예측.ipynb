{
  "nbformat": 4,
  "nbformat_minor": 0,
  "metadata": {
    "colab": {
      "name": "[02] 첫번째 딥러닝 - 레모네이드 판매 예측.ipynb",
      "provenance": []
    },
    "kernelspec": {
      "name": "python3",
      "display_name": "Python 3"
    }
  },
  "cells": [
    {
      "cell_type": "markdown",
      "metadata": {
        "id": "5Zi4VIqUyN_3"
      },
      "source": [
        "**손실의 의미**\r\n",
        "\r\n",
        "```model.fit(독립, 종속, epochs = 10)```\r\n",
        "- 학습이 되면 될수록, 더 정확하게 정답을 맞추게 될 것임.\r\n",
        "- 그럼 어떤 방식으로 손실을 구할까?\r\n",
        "  1. ```종속변수```와 ```예측 결과```를 비교\r\n",
        "  2. ```(예측 - 결과)^2``` 수식을 이용\r\n",
        "  3. 위 값들의 ```평균```을 구하면 ```Loss```가 되는 것!!\r\n",
        "\r\n",
        "- 에포크마다 Loss가 0에 가까워지는 것을 확인하기.\r\n",
        "- 원하는 수준으로 떨어질 때까지 학습을 시키면 된다."
      ]
    },
    {
      "cell_type": "markdown",
      "metadata": {
        "id": "4DFgkAf15KnM"
      },
      "source": [
        "**레모네이드 판매 예측**"
      ]
    },
    {
      "cell_type": "code",
      "metadata": {
        "id": "fEEUfBB55M8C"
      },
      "source": [
        "# 라이브러리 사용\r\n",
        "\r\n",
        "import tensorflow as tf\r\n",
        "import pandas as pd"
      ],
      "execution_count": 1,
      "outputs": []
    },
    {
      "cell_type": "code",
      "metadata": {
        "colab": {
          "base_uri": "https://localhost:8080/",
          "height": 194
        },
        "id": "JtwQI4hD5NSn",
        "outputId": "f84523a3-1653-4577-9d15-1d141b0727e0"
      },
      "source": [
        "# 데이터 준비\r\n",
        "\r\n",
        "파일경로 = 'https://raw.githubusercontent.com/blackdew/tensorflow1/master/csv/lemonade.csv'\r\n",
        "데이터 = pd.read_csv(파일경로)\r\n",
        "데이터.head()  # 데이터를 잘 읽어들였는지 확인해보기"
      ],
      "execution_count": 2,
      "outputs": [
        {
          "output_type": "execute_result",
          "data": {
            "text/html": [
              "<div>\n",
              "<style scoped>\n",
              "    .dataframe tbody tr th:only-of-type {\n",
              "        vertical-align: middle;\n",
              "    }\n",
              "\n",
              "    .dataframe tbody tr th {\n",
              "        vertical-align: top;\n",
              "    }\n",
              "\n",
              "    .dataframe thead th {\n",
              "        text-align: right;\n",
              "    }\n",
              "</style>\n",
              "<table border=\"1\" class=\"dataframe\">\n",
              "  <thead>\n",
              "    <tr style=\"text-align: right;\">\n",
              "      <th></th>\n",
              "      <th>온도</th>\n",
              "      <th>판매량</th>\n",
              "    </tr>\n",
              "  </thead>\n",
              "  <tbody>\n",
              "    <tr>\n",
              "      <th>0</th>\n",
              "      <td>20</td>\n",
              "      <td>40</td>\n",
              "    </tr>\n",
              "    <tr>\n",
              "      <th>1</th>\n",
              "      <td>21</td>\n",
              "      <td>42</td>\n",
              "    </tr>\n",
              "    <tr>\n",
              "      <th>2</th>\n",
              "      <td>22</td>\n",
              "      <td>44</td>\n",
              "    </tr>\n",
              "    <tr>\n",
              "      <th>3</th>\n",
              "      <td>23</td>\n",
              "      <td>46</td>\n",
              "    </tr>\n",
              "    <tr>\n",
              "      <th>4</th>\n",
              "      <td>24</td>\n",
              "      <td>48</td>\n",
              "    </tr>\n",
              "  </tbody>\n",
              "</table>\n",
              "</div>"
            ],
            "text/plain": [
              "   온도  판매량\n",
              "0  20   40\n",
              "1  21   42\n",
              "2  22   44\n",
              "3  23   46\n",
              "4  24   48"
            ]
          },
          "metadata": {
            "tags": []
          },
          "execution_count": 2
        }
      ]
    },
    {
      "cell_type": "code",
      "metadata": {
        "colab": {
          "base_uri": "https://localhost:8080/"
        },
        "id": "rI0Uco9g5Oxn",
        "outputId": "39856d56-0238-496f-b95f-f5c4c6993bf7"
      },
      "source": [
        "# 독립변수와 종속변수 구분\r\n",
        "\r\n",
        "독립 = 데이터[['온도']]\r\n",
        "종속 = 데이터[['판매량']]\r\n",
        "print(독립.shape, 종속.shape)  # 모양만으로 데이터를 잘 나눴는지 판단"
      ],
      "execution_count": 3,
      "outputs": [
        {
          "output_type": "stream",
          "text": [
            "(6, 1) (6, 1)\n"
          ],
          "name": "stdout"
        }
      ]
    },
    {
      "cell_type": "code",
      "metadata": {
        "id": "P15qmf695QRY"
      },
      "source": [
        "# 모델 만들기\r\n",
        "\r\n",
        "X = tf.keras.layers.Input(shape=[1])  # 왜 1인가? : 독립변수의 칼럼의 개수가 1이었기 때문!!\r\n",
        "Y = tf.keras.layers.Dense(1)(X)       # 왜 1인가? : 종속변수의 칼럼의 개수가 1이었기 때문!!\r\n",
        "                                      # shape를 통해 모양을 파악하는 이유 -> 숫자를 파악하기 위해서\r\n",
        "models = tf.keras.models.Model(X, Y)\r\n",
        "models.compile(loss = 'mse')  # 모델이 학습할 방법을 정의"
      ],
      "execution_count": 4,
      "outputs": []
    },
    {
      "cell_type": "code",
      "metadata": {
        "colab": {
          "base_uri": "https://localhost:8080/"
        },
        "id": "aDA6kI2A5R9G",
        "outputId": "4266e10f-5ae6-4aaa-ded9-b017b2b6b95a"
      },
      "source": [
        "# 모델을 학습하기\r\n",
        "\r\n",
        "models.fit(독립, 종속, epochs = 10)  # 몇 회 학습시킬 것인지가 epochs 변수에 들어가는 것임\r\n",
        "                                     # verbose = 0 옵션을 사용하면 에포크 로그 안 보이게 훈련 가능"
      ],
      "execution_count": 10,
      "outputs": [
        {
          "output_type": "stream",
          "text": [
            "Epoch 1/10\n",
            "1/1 [==============================] - 0s 3ms/step - loss: 2.2299e-04\n",
            "Epoch 2/10\n",
            "1/1 [==============================] - 0s 5ms/step - loss: 2.2297e-04\n",
            "Epoch 3/10\n",
            "1/1 [==============================] - 0s 5ms/step - loss: 2.2285e-04\n",
            "Epoch 4/10\n",
            "1/1 [==============================] - 0s 3ms/step - loss: 2.2270e-04\n",
            "Epoch 5/10\n",
            "1/1 [==============================] - 0s 4ms/step - loss: 2.2256e-04\n",
            "Epoch 6/10\n",
            "1/1 [==============================] - 0s 3ms/step - loss: 2.2239e-04\n",
            "Epoch 7/10\n",
            "1/1 [==============================] - 0s 3ms/step - loss: 2.2219e-04\n",
            "Epoch 8/10\n",
            "1/1 [==============================] - 0s 3ms/step - loss: 2.2208e-04\n",
            "Epoch 9/10\n",
            "1/1 [==============================] - 0s 3ms/step - loss: 2.2201e-04\n",
            "Epoch 10/10\n",
            "1/1 [==============================] - 0s 3ms/step - loss: 2.2201e-04\n"
          ],
          "name": "stdout"
        },
        {
          "output_type": "execute_result",
          "data": {
            "text/plain": [
              "<tensorflow.python.keras.callbacks.History at 0x7f7524b1e9e8>"
            ]
          },
          "metadata": {
            "tags": []
          },
          "execution_count": 10
        }
      ]
    },
    {
      "cell_type": "code",
      "metadata": {
        "colab": {
          "base_uri": "https://localhost:8080/"
        },
        "id": "vK6MciAi522G",
        "outputId": "3ac8c974-571c-48b7-af19-e71bfb6be156"
      },
      "source": [
        "# 모델 이용하기\r\n",
        "\r\n",
        "print(models.predict(독립))\r\n",
        "print(\"\\n종속과 거의 비슷하게 출력된 것을 볼 수 있음!!\\n\")\r\n",
        "print(종속)"
      ],
      "execution_count": 16,
      "outputs": [
        {
          "output_type": "stream",
          "text": [
            "[[40.003483]\n",
            " [41.997654]\n",
            " [43.99183 ]\n",
            " [45.986   ]\n",
            " [47.98017 ]\n",
            " [49.974342]]\n",
            "\n",
            "종속과 거의 비슷하게 출력된 것을 볼 수 있음!!\n",
            "\n",
            "   판매량\n",
            "0   40\n",
            "1   42\n",
            "2   44\n",
            "3   46\n",
            "4   48\n",
            "5   50\n"
          ],
          "name": "stdout"
        }
      ]
    },
    {
      "cell_type": "code",
      "metadata": {
        "colab": {
          "base_uri": "https://localhost:8080/"
        },
        "id": "5rXW4bvc6PWx",
        "outputId": "5e6e26b7-66f6-4feb-fda7-aaa592a156f6"
      },
      "source": [
        "# 모델 예측하기\r\n",
        "\r\n",
        "print(models.predict([[15]]))  # 판매량 = 온도 * 2 에 대한 모델이 제대로 만들어졌음을 확인"
      ],
      "execution_count": 21,
      "outputs": [
        {
          "output_type": "stream",
          "text": [
            "[[30.032625]]\n"
          ],
          "name": "stdout"
        }
      ]
    }
  ]
}