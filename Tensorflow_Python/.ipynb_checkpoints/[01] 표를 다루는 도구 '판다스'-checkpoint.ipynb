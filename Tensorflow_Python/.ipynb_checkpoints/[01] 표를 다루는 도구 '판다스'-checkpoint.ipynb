{
 "cells": [
  {
   "cell_type": "markdown",
   "metadata": {},
   "source": [
    "표를 다루는 도구 Pandas\n",
    "\n",
    "- 독립변수 (원인) : 온도가 20, 21, 22\n",
    "- 종속변수 (결과) : 판매량이 40, 42, 44\n",
    "\n",
    "-> 두 변수 사이에는 특별한 관계가 하나 존재!!"
   ]
  },
  {
   "cell_type": "code",
   "execution_count": null,
   "metadata": {},
   "outputs": [],
   "source": []
  }
 ],
 "metadata": {
  "kernelspec": {
   "display_name": "Python 3",
   "language": "python",
   "name": "python3"
  },
  "language_info": {
   "codemirror_mode": {
    "name": "ipython",
    "version": 3
   },
   "file_extension": ".py",
   "mimetype": "text/x-python",
   "name": "python",
   "nbconvert_exporter": "python",
   "pygments_lexer": "ipython3",
   "version": "3.6.10"
  }
 },
 "nbformat": 4,
 "nbformat_minor": 4
}
