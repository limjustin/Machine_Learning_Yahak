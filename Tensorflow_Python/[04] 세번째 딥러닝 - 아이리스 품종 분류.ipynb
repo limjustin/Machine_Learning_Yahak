{
  "nbformat": 4,
  "nbformat_minor": 0,
  "metadata": {
    "colab": {
      "name": "[04] 세번째 딥러닝 - 아이리스 품종 분류.ipynb",
      "provenance": [],
      "collapsed_sections": []
    },
    "kernelspec": {
      "name": "python3",
      "display_name": "Python 3"
    }
  },
  "cells": [
    {
      "cell_type": "markdown",
      "metadata": {
        "id": "9W0tliTnSXZD"
      },
      "source": [
        "**종속 변수 데이터 종류에 따른 문제 유형**\r\n",
        "- ```양적 데이터```일 경우, ```회귀 문제```\r\n",
        "  - ex) 온도(20, 21, 22)와 판매량(40, 42, 44)의 상관관계\r\n",
        "- ```범주형 데이터```일경우, ```분류 문제```\r\n",
        "  - ex) 공부시간(20, 21, 22)에 따른 시험결과 (합격, 불합격)의 상관관계\r\n",
        "  - 하지만 범주형 데이터는 숫자로 표현되지 않으므로, 수식에 사용할 수 있는 형태로 바꿔주는 과정을 거쳐야 함.\r\n",
        "\r\n",
        "**원핫 인코딩(onehot-encoding)**\r\n",
        "- 범주형 데이터를 숫자 형태로 변환시켜주는 것.\r\n",
        "- 딥러닝 모델을 사용하기 위해서는 모든 범주형 변수를 원핫 인코딩 해주어야 함.\r\n",
        "- ```pd.get_dummies()```는 데이터 내 범주형 변수들만 골라서 원핫 인코딩된 결과를 만들어 줌.\r\n",
        "- 따라서, Iris dataset에서 종속변수의 개수가 3개가 된다!!<br>\r\n",
        "(setosa인지 확인하는거 하나, virginica인지 확인하는거 하나, veriscolor인지 \r\n",
        "확인하는거 하나)\r\n",
        "\r\n",
        "**Softmax 함수**\r\n",
        "- 출력 확률의 범위를 0과 1 사이로 제한시켜 줌.\r\n",
        "- 확률, 비율로 예측을 진행하기 위해 Softmax를 사용하는 것이 목적.\r\n",
        "- Sigmoid 함수와 차이점 비교\r\n",
        "\r\n",
        "Sigmoid Function | Softmax Function\r\n",
        "--- | ---\r\n",
        "Multi-classification | Binary-classification\r\n",
        "확률의 총합 = 1 | 확률의 총합 1이 아님\r\n",
        "출력층에서 사용 | 활성화 함수로 사용할 수 있음\r\n",
        "\r\n",
        "**Loss의 지정 방식**\r\n",
        "- 문제에 따라 loss를 다르게 사용해야 한다는 것이 중요\r\n",
        "  - 회귀 문제 : mse\r\n",
        "  - 분류 문제 : crossentropy\r\n",
        "- 정확도 옵션은 ```metrics = 'accuracy'``` 로 확인 가능"
      ]
    },
    {
      "cell_type": "markdown",
      "metadata": {
        "id": "aySHWLsrXZXY"
      },
      "source": [
        "**아이리스 품종 분류**"
      ]
    },
    {
      "cell_type": "code",
      "metadata": {
        "id": "qVXo3Wa8SIt3"
      },
      "source": [
        "# 라이브러리 사용\r\n",
        "\r\n",
        "import tensorflow as tf\r\n",
        "import pandas as pd"
      ],
      "execution_count": 2,
      "outputs": []
    },
    {
      "cell_type": "code",
      "metadata": {
        "colab": {
          "base_uri": "https://localhost:8080/",
          "height": 204
        },
        "id": "Q7PNTeY6Xe_o",
        "outputId": "61545252-e8e5-4d09-dba5-49f49aac18c7"
      },
      "source": [
        "# 1. 과거의 데이터를 준비합니다.\r\n",
        "\r\n",
        "파일경로 = 'https://raw.githubusercontent.com/blackdew/tensorflow1/master/csv/iris.csv'\r\n",
        "아이리스 = pd.read_csv(파일경로)\r\n",
        "아이리스.head()"
      ],
      "execution_count": 3,
      "outputs": [
        {
          "output_type": "execute_result",
          "data": {
            "text/html": [
              "<div>\n",
              "<style scoped>\n",
              "    .dataframe tbody tr th:only-of-type {\n",
              "        vertical-align: middle;\n",
              "    }\n",
              "\n",
              "    .dataframe tbody tr th {\n",
              "        vertical-align: top;\n",
              "    }\n",
              "\n",
              "    .dataframe thead th {\n",
              "        text-align: right;\n",
              "    }\n",
              "</style>\n",
              "<table border=\"1\" class=\"dataframe\">\n",
              "  <thead>\n",
              "    <tr style=\"text-align: right;\">\n",
              "      <th></th>\n",
              "      <th>꽃잎길이</th>\n",
              "      <th>꽃잎폭</th>\n",
              "      <th>꽃받침길이</th>\n",
              "      <th>꽃받침폭</th>\n",
              "      <th>품종</th>\n",
              "    </tr>\n",
              "  </thead>\n",
              "  <tbody>\n",
              "    <tr>\n",
              "      <th>0</th>\n",
              "      <td>5.1</td>\n",
              "      <td>3.5</td>\n",
              "      <td>1.4</td>\n",
              "      <td>0.2</td>\n",
              "      <td>setosa</td>\n",
              "    </tr>\n",
              "    <tr>\n",
              "      <th>1</th>\n",
              "      <td>4.9</td>\n",
              "      <td>3.0</td>\n",
              "      <td>1.4</td>\n",
              "      <td>0.2</td>\n",
              "      <td>setosa</td>\n",
              "    </tr>\n",
              "    <tr>\n",
              "      <th>2</th>\n",
              "      <td>4.7</td>\n",
              "      <td>3.2</td>\n",
              "      <td>1.3</td>\n",
              "      <td>0.2</td>\n",
              "      <td>setosa</td>\n",
              "    </tr>\n",
              "    <tr>\n",
              "      <th>3</th>\n",
              "      <td>4.6</td>\n",
              "      <td>3.1</td>\n",
              "      <td>1.5</td>\n",
              "      <td>0.2</td>\n",
              "      <td>setosa</td>\n",
              "    </tr>\n",
              "    <tr>\n",
              "      <th>4</th>\n",
              "      <td>5.0</td>\n",
              "      <td>3.6</td>\n",
              "      <td>1.4</td>\n",
              "      <td>0.2</td>\n",
              "      <td>setosa</td>\n",
              "    </tr>\n",
              "  </tbody>\n",
              "</table>\n",
              "</div>"
            ],
            "text/plain": [
              "   꽃잎길이  꽃잎폭  꽃받침길이  꽃받침폭      품종\n",
              "0   5.1  3.5    1.4   0.2  setosa\n",
              "1   4.9  3.0    1.4   0.2  setosa\n",
              "2   4.7  3.2    1.3   0.2  setosa\n",
              "3   4.6  3.1    1.5   0.2  setosa\n",
              "4   5.0  3.6    1.4   0.2  setosa"
            ]
          },
          "metadata": {
            "tags": []
          },
          "execution_count": 3
        }
      ]
    },
    {
      "cell_type": "code",
      "metadata": {
        "colab": {
          "base_uri": "https://localhost:8080/",
          "height": 204
        },
        "id": "OYVyW2BWXoYM",
        "outputId": "014d26d8-c5b9-409e-b74e-2a6de9478669"
      },
      "source": [
        "# 원핫인코딩\r\n",
        "\r\n",
        "인코딩 = pd.get_dummies(아이리스)  # 범주형 변수들만 골라서 원핫 인코딩 진행\r\n",
        "인코딩.head()                      # 밑에 표에서 결과 확인 가능"
      ],
      "execution_count": 4,
      "outputs": [
        {
          "output_type": "execute_result",
          "data": {
            "text/html": [
              "<div>\n",
              "<style scoped>\n",
              "    .dataframe tbody tr th:only-of-type {\n",
              "        vertical-align: middle;\n",
              "    }\n",
              "\n",
              "    .dataframe tbody tr th {\n",
              "        vertical-align: top;\n",
              "    }\n",
              "\n",
              "    .dataframe thead th {\n",
              "        text-align: right;\n",
              "    }\n",
              "</style>\n",
              "<table border=\"1\" class=\"dataframe\">\n",
              "  <thead>\n",
              "    <tr style=\"text-align: right;\">\n",
              "      <th></th>\n",
              "      <th>꽃잎길이</th>\n",
              "      <th>꽃잎폭</th>\n",
              "      <th>꽃받침길이</th>\n",
              "      <th>꽃받침폭</th>\n",
              "      <th>품종_setosa</th>\n",
              "      <th>품종_versicolor</th>\n",
              "      <th>품종_virginica</th>\n",
              "    </tr>\n",
              "  </thead>\n",
              "  <tbody>\n",
              "    <tr>\n",
              "      <th>0</th>\n",
              "      <td>5.1</td>\n",
              "      <td>3.5</td>\n",
              "      <td>1.4</td>\n",
              "      <td>0.2</td>\n",
              "      <td>1</td>\n",
              "      <td>0</td>\n",
              "      <td>0</td>\n",
              "    </tr>\n",
              "    <tr>\n",
              "      <th>1</th>\n",
              "      <td>4.9</td>\n",
              "      <td>3.0</td>\n",
              "      <td>1.4</td>\n",
              "      <td>0.2</td>\n",
              "      <td>1</td>\n",
              "      <td>0</td>\n",
              "      <td>0</td>\n",
              "    </tr>\n",
              "    <tr>\n",
              "      <th>2</th>\n",
              "      <td>4.7</td>\n",
              "      <td>3.2</td>\n",
              "      <td>1.3</td>\n",
              "      <td>0.2</td>\n",
              "      <td>1</td>\n",
              "      <td>0</td>\n",
              "      <td>0</td>\n",
              "    </tr>\n",
              "    <tr>\n",
              "      <th>3</th>\n",
              "      <td>4.6</td>\n",
              "      <td>3.1</td>\n",
              "      <td>1.5</td>\n",
              "      <td>0.2</td>\n",
              "      <td>1</td>\n",
              "      <td>0</td>\n",
              "      <td>0</td>\n",
              "    </tr>\n",
              "    <tr>\n",
              "      <th>4</th>\n",
              "      <td>5.0</td>\n",
              "      <td>3.6</td>\n",
              "      <td>1.4</td>\n",
              "      <td>0.2</td>\n",
              "      <td>1</td>\n",
              "      <td>0</td>\n",
              "      <td>0</td>\n",
              "    </tr>\n",
              "  </tbody>\n",
              "</table>\n",
              "</div>"
            ],
            "text/plain": [
              "   꽃잎길이  꽃잎폭  꽃받침길이  꽃받침폭  품종_setosa  품종_versicolor  품종_virginica\n",
              "0   5.1  3.5    1.4   0.2          1              0             0\n",
              "1   4.9  3.0    1.4   0.2          1              0             0\n",
              "2   4.7  3.2    1.3   0.2          1              0             0\n",
              "3   4.6  3.1    1.5   0.2          1              0             0\n",
              "4   5.0  3.6    1.4   0.2          1              0             0"
            ]
          },
          "metadata": {
            "tags": []
          },
          "execution_count": 4
        }
      ]
    },
    {
      "cell_type": "code",
      "metadata": {
        "colab": {
          "base_uri": "https://localhost:8080/"
        },
        "id": "2lRZwMTUXv1A",
        "outputId": "0895da8b-1870-46a3-c647-db5ada093cb0"
      },
      "source": [
        "# 독립변수와 종속변수 분리\r\n",
        "\r\n",
        "print(인코딩.columns)  # 독립변수와 종속변수 구분하기 위해 확인\r\n",
        "독립 = 인코딩[['꽃잎길이', '꽃잎폭', '꽃받침길이', '꽃받침폭']]\r\n",
        "종속 = 인코딩[['품종_setosa', '품종_versicolor',\r\n",
        "       '품종_virginica']]\r\n",
        "print(독립.shape, 종속.shape)"
      ],
      "execution_count": 5,
      "outputs": [
        {
          "output_type": "stream",
          "text": [
            "Index(['꽃잎길이', '꽃잎폭', '꽃받침길이', '꽃받침폭', '품종_setosa', '품종_versicolor',\n",
            "       '품종_virginica'],\n",
            "      dtype='object')\n",
            "(150, 4) (150, 3)\n"
          ],
          "name": "stdout"
        }
      ]
    },
    {
      "cell_type": "code",
      "metadata": {
        "id": "0OCRIizMX_2-"
      },
      "source": [
        "# 2. 모델의 구조를 만듭니다.\r\n",
        "\r\n",
        "X = tf.keras.layers.Input(shape=[4])\r\n",
        "# 범주형 데이터를 학습시키기 위해서는 수치형으로 변형이 필요\r\n",
        "Y = tf.keras.layers.Dense(3, activation = 'softmax')(X)\r\n",
        "models = tf.keras.models.Model(X, Y)\r\n",
        "models.compile(loss = 'categorical_crossentropy', metrics = 'accuracy')"
      ],
      "execution_count": 8,
      "outputs": []
    },
    {
      "cell_type": "code",
      "metadata": {
        "colab": {
          "base_uri": "https://localhost:8080/"
        },
        "id": "1fp4m1QjYTuy",
        "outputId": "4d8daeaa-609f-4cb0-cc3f-91e56f66b3bc"
      },
      "source": [
        "# 3. 데이터로 모델을 학습(fit)합니다.\r\n",
        "\r\n",
        "models.fit(독립, 종속, epochs = 10)"
      ],
      "execution_count": 12,
      "outputs": [
        {
          "output_type": "stream",
          "text": [
            "Epoch 1/10\n",
            "5/5 [==============================] - 0s 2ms/step - loss: 0.3989 - accuracy: 0.9067\n",
            "Epoch 2/10\n",
            "5/5 [==============================] - 0s 2ms/step - loss: 0.3985 - accuracy: 0.9067\n",
            "Epoch 3/10\n",
            "5/5 [==============================] - 0s 2ms/step - loss: 0.3974 - accuracy: 0.9133\n",
            "Epoch 4/10\n",
            "5/5 [==============================] - 0s 2ms/step - loss: 0.3969 - accuracy: 0.9000\n",
            "Epoch 5/10\n",
            "5/5 [==============================] - 0s 3ms/step - loss: 0.3964 - accuracy: 0.9133\n",
            "Epoch 6/10\n",
            "5/5 [==============================] - 0s 2ms/step - loss: 0.3947 - accuracy: 0.9133\n",
            "Epoch 7/10\n",
            "5/5 [==============================] - 0s 2ms/step - loss: 0.3943 - accuracy: 0.9133\n",
            "Epoch 8/10\n",
            "5/5 [==============================] - 0s 2ms/step - loss: 0.3929 - accuracy: 0.9200\n",
            "Epoch 9/10\n",
            "5/5 [==============================] - 0s 2ms/step - loss: 0.3930 - accuracy: 0.9133\n",
            "Epoch 10/10\n",
            "5/5 [==============================] - 0s 2ms/step - loss: 0.3919 - accuracy: 0.9200\n"
          ],
          "name": "stdout"
        },
        {
          "output_type": "execute_result",
          "data": {
            "text/plain": [
              "<tensorflow.python.keras.callbacks.History at 0x7faa20ccf748>"
            ]
          },
          "metadata": {
            "tags": []
          },
          "execution_count": 12
        }
      ]
    },
    {
      "cell_type": "code",
      "metadata": {
        "colab": {
          "base_uri": "https://localhost:8080/"
        },
        "id": "Vd-MuycKYZiz",
        "outputId": "a8cdb594-a1bd-4edb-a629-79236630bbfb"
      },
      "source": [
        "# 4. 모델을 이용합니다.\r\n",
        "\r\n",
        "models.predict(독립[0:5])\r\n",
        "# 첫 번째 칼럼의 확률이 제일 높기에, setosa 품종임을 예측할 수 있음"
      ],
      "execution_count": 13,
      "outputs": [
        {
          "output_type": "execute_result",
          "data": {
            "text/plain": [
              "array([[0.9667564 , 0.0255352 , 0.00770831],\n",
              "       [0.93953043, 0.04799141, 0.01247815],\n",
              "       [0.9526348 , 0.03642053, 0.01094459],\n",
              "       [0.9273992 , 0.055306  , 0.01729468],\n",
              "       [0.9684151 , 0.02377808, 0.00780682]], dtype=float32)"
            ]
          },
          "metadata": {
            "tags": []
          },
          "execution_count": 13
        }
      ]
    },
    {
      "cell_type": "code",
      "metadata": {
        "colab": {
          "base_uri": "https://localhost:8080/"
        },
        "id": "MHU3q4McYz4Q",
        "outputId": "69cf1c34-1d54-4465-bfbd-cd69ea716aed"
      },
      "source": [
        "print(종속[0:5])"
      ],
      "execution_count": 14,
      "outputs": [
        {
          "output_type": "stream",
          "text": [
            "   품종_setosa  품종_versicolor  품종_virginica\n",
            "0          1              0             0\n",
            "1          1              0             0\n",
            "2          1              0             0\n",
            "3          1              0             0\n",
            "4          1              0             0\n"
          ],
          "name": "stdout"
        }
      ]
    },
    {
      "cell_type": "code",
      "metadata": {
        "colab": {
          "base_uri": "https://localhost:8080/"
        },
        "id": "i7GaerYYZ94W",
        "outputId": "07120be9-c324-44fb-db7b-bcea5fab82af"
      },
      "source": [
        "# 학습한 가중치 출력\r\n",
        "\r\n",
        "models.get_weights()"
      ],
      "execution_count": 15,
      "outputs": [
        {
          "output_type": "execute_result",
          "data": {
            "text/plain": [
              "[array([[ 0.40789664, -0.01280083, -0.39948815],\n",
              "        [ 0.71874136, -0.43204084,  0.02120172],\n",
              "        [-1.7183572 , -0.28111604, -0.04881116],\n",
              "        [-1.7728368 , -0.07712914,  0.77488077]], dtype=float32),\n",
              " array([ 0.4536526 ,  0.64177954, -0.66585195], dtype=float32)]"
            ]
          },
          "metadata": {
            "tags": []
          },
          "execution_count": 15
        }
      ]
    }
  ]
}